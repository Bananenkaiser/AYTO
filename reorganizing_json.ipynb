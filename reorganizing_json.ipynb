{
 "cells": [
  {
   "cell_type": "code",
   "execution_count": 9,
   "metadata": {},
   "outputs": [],
   "source": [
    "import json"
   ]
  },
  {
   "cell_type": "code",
   "execution_count": 10,
   "metadata": {},
   "outputs": [],
   "source": [
    "SEASON= \"Season_1\""
   ]
  },
  {
   "cell_type": "code",
   "execution_count": 11,
   "metadata": {},
   "outputs": [],
   "source": [
    "def reorganize_ayto_data(input_filename, output_filename):\n",
    "    with open(input_filename, \"r\", encoding=\"utf-8\") as f:\n",
    "        data = json.load(f)\n",
    "    \n",
    "    # 1. Teilnehmer (unverändert)\n",
    "    participants = data[\"participants\"]\n",
    "    \n",
    "    # 2. Alle Truth Booths sammeln\n",
    "    all_truth_booths = []\n",
    "    for episode in data.get(\"episodes\", []):\n",
    "        tb = episode.get(\"truth_booths\")\n",
    "        if tb is not None:\n",
    "            # Falls mehrere Truth Booths in einer Episode vorhanden, alle anhängen\n",
    "            for booth in tb:\n",
    "                all_truth_booths.append(booth)\n",
    "    \n",
    "    # 3. Alle Match Ceremonies sammeln\n",
    "    all_match_ceremonies = []\n",
    "    for episode in data.get(\"episodes\", []):\n",
    "        ceremony = episode.get(\"match_ceremony\")\n",
    "        if ceremony is not None:\n",
    "            all_match_ceremonies.append(ceremony)\n",
    "    \n",
    "    # Zusammenbauen des neuen Dictionaries\n",
    "    new_data = {\n",
    "        \"participants\": participants,\n",
    "        \"truth_booths\": all_truth_booths,\n",
    "        \"match_ceremonies\": all_match_ceremonies\n",
    "    }\n",
    "    \n",
    "    # In einer neuen JSON-Datei speichern\n",
    "    with open(output_filename, \"w\", encoding=\"utf-8\") as f:\n",
    "        json.dump(new_data, f, indent=2, ensure_ascii=False)\n"
   ]
  },
  {
   "cell_type": "code",
   "execution_count": 12,
   "metadata": {},
   "outputs": [
    {
     "name": "stdout",
     "output_type": "stream",
     "text": [
      "Datei wurde neu geordnet und unter 'reorganized_Season_1.json' gespeichert.\n"
     ]
    }
   ],
   "source": [
    "if __name__ == \"__main__\":\n",
    "    input_file = f\".\\\\src\\\\normal\\\\{SEASON}.json\"\n",
    "    output_file = f\"reorganized_{SEASON}.json\"\n",
    "    reorganize_ayto_data(input_file, output_file)\n",
    "    print(f\"Datei wurde neu geordnet und unter '{output_file}' gespeichert.\")"
   ]
  }
 ],
 "metadata": {
  "kernelspec": {
   "display_name": "Python 3",
   "language": "python",
   "name": "python3"
  },
  "language_info": {
   "codemirror_mode": {
    "name": "ipython",
    "version": 3
   },
   "file_extension": ".py",
   "mimetype": "text/x-python",
   "name": "python",
   "nbconvert_exporter": "python",
   "pygments_lexer": "ipython3",
   "version": "3.12.1"
  }
 },
 "nbformat": 4,
 "nbformat_minor": 2
}
